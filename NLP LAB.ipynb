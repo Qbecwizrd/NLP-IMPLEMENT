{
 "cells": [
  {
   "cell_type": "code",
   "execution_count": 1,
   "id": "3f5a5e3d",
   "metadata": {},
   "outputs": [],
   "source": [
    "from nltk.tokenize import sent_tokenize"
   ]
  },
  {
   "cell_type": "code",
   "execution_count": 2,
   "id": "0c9142e4",
   "metadata": {},
   "outputs": [],
   "source": [
    "corpus=\"\"\" hello welcome to Abdul Jabbar ineuron's IT solution.\n",
    "            Please do watch the entire couse thankyou so much \"\"\""
   ]
  },
  {
   "cell_type": "code",
   "execution_count": 3,
   "id": "b1ba94b0",
   "metadata": {},
   "outputs": [
    {
     "data": {
      "text/plain": [
       "\" hello welcome to Abdul Jabbar ineuron's IT solution.\\n            Please do watch the entire couse thankyou so muhc \""
      ]
     },
     "execution_count": 3,
     "metadata": {},
     "output_type": "execute_result"
    }
   ],
   "source": [
    "##paragraph to sentences\n",
    "corpus"
   ]
  },
  {
   "cell_type": "code",
   "execution_count": 5,
   "id": "5845aed7",
   "metadata": {},
   "outputs": [],
   "source": [
    "documents=sent_tokenize(corpus)"
   ]
  },
  {
   "cell_type": "code",
   "execution_count": 6,
   "id": "0f448796",
   "metadata": {},
   "outputs": [
    {
     "data": {
      "text/plain": [
       "['hello',\n",
       " 'welcome',\n",
       " 'to',\n",
       " 'Abdul',\n",
       " 'Jabbar',\n",
       " 'ineuron',\n",
       " \"'s\",\n",
       " 'IT',\n",
       " 'solution',\n",
       " '.',\n",
       " 'Please',\n",
       " 'do',\n",
       " 'watch',\n",
       " 'the',\n",
       " 'entire',\n",
       " 'couse',\n",
       " 'thankyou',\n",
       " 'so',\n",
       " 'muhc']"
      ]
     },
     "execution_count": 6,
     "metadata": {},
     "output_type": "execute_result"
    }
   ],
   "source": [
    "##sentences to words\n",
    "from nltk.tokenize import word_tokenize\n",
    "word_tokenize(corpus)"
   ]
  },
  {
   "cell_type": "code",
   "execution_count": 7,
   "id": "0c9ebcea",
   "metadata": {},
   "outputs": [],
   "source": [
    "from nltk.tokenize import wordpunct_tokenize"
   ]
  },
  {
   "cell_type": "code",
   "execution_count": 8,
   "id": "0e713a74",
   "metadata": {},
   "outputs": [
    {
     "data": {
      "text/plain": [
       "['hello',\n",
       " 'welcome',\n",
       " 'to',\n",
       " 'Abdul',\n",
       " 'Jabbar',\n",
       " 'ineuron',\n",
       " \"'\",\n",
       " 's',\n",
       " 'IT',\n",
       " 'solution',\n",
       " '.',\n",
       " 'Please',\n",
       " 'do',\n",
       " 'watch',\n",
       " 'the',\n",
       " 'entire',\n",
       " 'couse',\n",
       " 'thankyou',\n",
       " 'so',\n",
       " 'muhc']"
      ]
     },
     "execution_count": 8,
     "metadata": {},
     "output_type": "execute_result"
    }
   ],
   "source": [
    "wordpunct_tokenize(corpus)"
   ]
  },
  {
   "cell_type": "code",
   "execution_count": 9,
   "id": "b841fecc",
   "metadata": {},
   "outputs": [],
   "source": [
    "from nltk.tokenize import TreebankWordTokenizer"
   ]
  },
  {
   "cell_type": "code",
   "execution_count": 10,
   "id": "6588500b",
   "metadata": {},
   "outputs": [],
   "source": [
    "tokenizer=TreebankWordTokenizer()"
   ]
  },
  {
   "cell_type": "code",
   "execution_count": 11,
   "id": "4cdac345",
   "metadata": {},
   "outputs": [
    {
     "data": {
      "text/plain": [
       "['hello',\n",
       " 'welcome',\n",
       " 'to',\n",
       " 'Abdul',\n",
       " 'Jabbar',\n",
       " 'ineuron',\n",
       " \"'s\",\n",
       " 'IT',\n",
       " 'solution.',\n",
       " 'Please',\n",
       " 'do',\n",
       " 'watch',\n",
       " 'the',\n",
       " 'entire',\n",
       " 'couse',\n",
       " 'thankyou',\n",
       " 'so',\n",
       " 'muhc']"
      ]
     },
     "execution_count": 11,
     "metadata": {},
     "output_type": "execute_result"
    }
   ],
   "source": [
    "tokenizer.tokenize(corpus)"
   ]
  },
  {
   "cell_type": "code",
   "execution_count": null,
   "id": "6054e454",
   "metadata": {},
   "outputs": [],
   "source": []
  }
 ],
 "metadata": {
  "kernelspec": {
   "display_name": "Python 3 (ipykernel)",
   "language": "python",
   "name": "python3"
  },
  "language_info": {
   "codemirror_mode": {
    "name": "ipython",
    "version": 3
   },
   "file_extension": ".py",
   "mimetype": "text/x-python",
   "name": "python",
   "nbconvert_exporter": "python",
   "pygments_lexer": "ipython3",
   "version": "3.10.2"
  }
 },
 "nbformat": 4,
 "nbformat_minor": 5
}
